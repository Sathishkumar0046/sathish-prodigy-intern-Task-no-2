{
 "cells": [
  {
   "cell_type": "code",
   "execution_count": 1,
   "id": "c42e0103-1676-48ef-b532-93f58953f6f6",
   "metadata": {},
   "outputs": [
    {
     "name": "stdout",
     "output_type": "stream",
     "text": [
      "Requirement already satisfied: numpy in c:\\users\\sudarsan\\anaconda3\\lib\\site-packages (1.26.4)\n"
     ]
    }
   ],
   "source": [
    "!pip install numpy"
   ]
  },
  {
   "cell_type": "code",
   "execution_count": 2,
   "id": "0cfa6e52-6cca-47e6-89f5-02b2f75aaa68",
   "metadata": {},
   "outputs": [
    {
     "name": "stdout",
     "output_type": "stream",
     "text": [
      "Requirement already satisfied: pillow in c:\\users\\sudarsan\\anaconda3\\lib\\site-packages (10.2.0)\n"
     ]
    }
   ],
   "source": [
    "!pip install pillow"
   ]
  },
  {
   "cell_type": "code",
   "execution_count": 7,
   "id": "7837d1ee-9966-43e9-a18e-126e64b6a2cf",
   "metadata": {},
   "outputs": [
    {
     "name": "stdout",
     "output_type": "stream",
     "text": [
      "Image Encryption Program\n",
      "1. Encrypt an image\n",
      "2. Decrypt an image\n",
      "3. Exit\n"
     ]
    },
    {
     "name": "stdin",
     "output_type": "stream",
     "text": [
      "Enter your choice (1/2/3):  1\n",
      "Enter the path of the image to encrypt:  r\"C:\\Users\\Sudarsan\\OneDrive\\sudarsun\\Dhoni_BCCI.jpg\"\n",
      "Enter the encryption key (integer value):  22\n"
     ]
    },
    {
     "name": "stdout",
     "output_type": "stream",
     "text": [
      "Encrypted image saved as encrypted_image.png\n",
      "Image Encryption Program\n",
      "1. Encrypt an image\n",
      "2. Decrypt an image\n",
      "3. Exit\n"
     ]
    },
    {
     "name": "stdin",
     "output_type": "stream",
     "text": [
      "Enter your choice (1/2/3):  2\n",
      "Enter the path of the image to decrypt:  encrypted_image.png\n",
      "Enter the decryption key (integer value):  22\n"
     ]
    },
    {
     "name": "stdout",
     "output_type": "stream",
     "text": [
      "Decrypted image saved as decrypted_image.png\n",
      "Image Encryption Program\n",
      "1. Encrypt an image\n",
      "2. Decrypt an image\n",
      "3. Exit\n"
     ]
    },
    {
     "name": "stdin",
     "output_type": "stream",
     "text": [
      "Enter your choice (1/2/3):  3\n"
     ]
    },
    {
     "name": "stdout",
     "output_type": "stream",
     "text": [
      "Exiting program...\n"
     ]
    }
   ],
   "source": [
    "from PIL import Image\n",
    "import numpy as np\n",
    "\n",
    "def encrypt_image(image_path, key):\n",
    "    # Open the image\n",
    "    image = Image.open(r\"C:\\Users\\Sudarsan\\OneDrive\\sudarsun\\Dhoni_BCCI.jpg\")\n",
    "    image_array = np.array(image)\n",
    "\n",
    "    # Apply encryption: (pixel_value + key) % 256\n",
    "    encrypted_array = (image_array + key) % 256\n",
    "\n",
    "    # Convert back to image\n",
    "    encrypted_image = Image.fromarray(np.uint8(encrypted_array))\n",
    "    return encrypted_image\n",
    "\n",
    "def decrypt_image(image_path, key):\n",
    "    # Open the image\n",
    "    image = Image.open(image_path)\n",
    "    image_array = np.array(image)\n",
    "\n",
    "    # Apply decryption: (pixel_value - key) % 256\n",
    "    decrypted_array = (image_array - key) % 256\n",
    "\n",
    "    # Convert back to image\n",
    "    decrypted_image = Image.fromarray(np.uint8(decrypted_array))\n",
    "    return decrypted_image\n",
    "\n",
    "def main():\n",
    "    while True:\n",
    "        print(\"Image Encryption Program\")\n",
    "        print(\"1. Encrypt an image\")\n",
    "        print(\"2. Decrypt an image\")\n",
    "        print(\"3. Exit\")\n",
    "        choice = input(\"Enter your choice (1/2/3): \")\n",
    "\n",
    "        if choice == '1':\n",
    "            image_path = input(\"Enter the path of the image to encrypt: \")\n",
    "            key = int(input(\"Enter the encryption key (integer value): \"))\n",
    "            encrypted_image = encrypt_image(image_path, key)\n",
    "            encrypted_image_path = \"encrypted_image.png\"\n",
    "            encrypted_image.save(encrypted_image_path)\n",
    "            print(f\"Encrypted image saved as {encrypted_image_path}\")\n",
    "\n",
    "        elif choice == '2':\n",
    "            image_path = input(\"Enter the path of the image to decrypt: \")\n",
    "            key = int(input(\"Enter the decryption key (integer value): \"))\n",
    "            decrypted_image = decrypt_image(image_path, key)\n",
    "            decrypted_image_path = \"decrypted_image.png\"\n",
    "            decrypted_image.save(decrypted_image_path)\n",
    "            print(f\"Decrypted image saved as {decrypted_image_path}\")\n",
    "\n",
    "        elif choice == '3':\n",
    "            print(\"Exiting program...\")\n",
    "            break\n",
    "\n",
    "        else:\n",
    "            print(\"Invalid choice. Please enter 1, 2, or 3.\")\n",
    "\n",
    "if __name__ == \"__main__\":\n",
    "    main()"
   ]
  },
  {
   "cell_type": "code",
   "execution_count": null,
   "id": "f8ed97fa-71fd-40fa-96a0-b97637fcb3c0",
   "metadata": {},
   "outputs": [],
   "source": []
  }
 ],
 "metadata": {
  "kernelspec": {
   "display_name": "Python 3 (ipykernel)",
   "language": "python",
   "name": "python3"
  },
  "language_info": {
   "codemirror_mode": {
    "name": "ipython",
    "version": 3
   },
   "file_extension": ".py",
   "mimetype": "text/x-python",
   "name": "python",
   "nbconvert_exporter": "python",
   "pygments_lexer": "ipython3",
   "version": "3.11.7"
  }
 },
 "nbformat": 4,
 "nbformat_minor": 5
}
